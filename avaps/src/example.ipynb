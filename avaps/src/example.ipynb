{
 "cells": [
  {
   "cell_type": "code",
   "execution_count": null,
   "id": "97ece59f-84db-4de2-be91-9908fcf70190",
   "metadata": {},
   "outputs": [],
   "source": [
    "import pandas as pd\n",
    "import numpy as np\n",
    "import matplotlib.pyplot as plt\n",
    "\n",
    "from sklearn.model_selection import train_test_split\n",
    "from sklearn.linear_model import LinearRegression\n",
    "from sklearn import metrics"
   ]
  },
  {
   "cell_type": "code",
   "execution_count": null,
   "id": "7822753b-a1fa-4ad6-95b8-5d8a471a53b8",
   "metadata": {},
   "outputs": [],
   "source": [
    "# Einlesen der Daten. In ein pandas Dataframe (Tabellen ähnliche Datenstruktur), https://pandas.pydata.org/docs/reference/api/pandas.DataFrame.html)\n",
    "df = pd.read_csv(\"../avaps_codefest_data.csv\", sep=';')"
   ]
  },
  {
   "cell_type": "markdown",
   "id": "7e2f086f-42fe-4e09-baf3-605516f964c4",
   "metadata": {},
   "source": [
    "### Explorative Datenanalyse:\n",
    "- Wie sehen unsere Daten aus?\n",
    "- Wie sind sie strukturiert?\n",
    "- Welche Datentypen haben wir?"
   ]
  },
  {
   "cell_type": "code",
   "execution_count": null,
   "id": "45b57260-0647-475b-96f5-3d12004f9c6d",
   "metadata": {},
   "outputs": [],
   "source": [
    "df.columns"
   ]
  },
  {
   "cell_type": "code",
   "execution_count": null,
   "id": "341b037b-cb3f-4fd1-935f-88b82ec73e8d",
   "metadata": {},
   "outputs": [],
   "source": [
    "df"
   ]
  },
  {
   "cell_type": "code",
   "execution_count": null,
   "id": "5507f248-3da4-4e1c-9cfe-368bf60506e2",
   "metadata": {},
   "outputs": [],
   "source": [
    "df.dtypes"
   ]
  },
  {
   "cell_type": "code",
   "execution_count": null,
   "id": "d39c24e0-762e-4933-9406-0e1ba4e79232",
   "metadata": {},
   "outputs": [],
   "source": [
    "df.describe()"
   ]
  },
  {
   "cell_type": "code",
   "execution_count": null,
   "id": "b9ddc20d-af11-4c9c-a4e4-af116c998f1a",
   "metadata": {},
   "outputs": [],
   "source": [
    "df.info()"
   ]
  },
  {
   "cell_type": "code",
   "execution_count": null,
   "id": "f219ca34-77f8-4a76-9db4-6217e2a8a98e",
   "metadata": {},
   "outputs": [],
   "source": [
    "# Note that even in the OO-style, we use `.pyplot.figure` to create the Figure.\n",
    "x = df['cycle_counter']\n",
    "y = df['weight']\n",
    "fig, ax = plt.subplots(figsize=(15, 5), layout='constrained')\n",
    "ax.scatter(x, y, label='weight')  # Plot some data on the axes.\n",
    "ax.set_xlabel('cycle_counter')  # Add an x-label to the axes.\n",
    "ax.set_ylabel('weight')  # Add a y-label to the axes.\n",
    "ax.set_title(\"Cycle weights\")  # Add a title to the axes.\n",
    "ax.legend();  # Add a legend.\n"
   ]
  },
  {
   "cell_type": "code",
   "execution_count": null,
   "id": "694ec67d-67cd-4f81-a9df-3eb972cf0a3f",
   "metadata": {},
   "outputs": [],
   "source": [
    "fig, axs = plt.subplots(5, 1, layout='constrained', figsize=(15, 10))\n",
    "axs[0].scatter(df['cycle_counter'], df['umschaltvolumen'])\n",
    "axs[0].set_title('umschaltvolumen')\n",
    "\n",
    "axs[1].scatter(df['cycle_counter'], df['maximaler_spritzdruck'])\n",
    "axs[1].set_title('maximaler_spritzdruck');\n",
    "\n",
    "axs[2].scatter(df['cycle_counter'], df['umschaltspritzdruck'])\n",
    "axs[2].set_title('umschaltspritzdruck');\n",
    "\n",
    "axs[3].scatter(df['cycle_counter'], df['werkzeugheizkreis_1'])\n",
    "axs[3].set_title('werkzeugheizkreis_1');\n",
    "\n",
    "axs[4].scatter(df['cycle_counter'], df['weight'])\n",
    "axs[4].set_title('weight');"
   ]
  },
  {
   "cell_type": "markdown",
   "id": "bc6654f8-d1ce-432b-9e86-067afd9cfca1",
   "metadata": {},
   "source": [
    "### Daten bereinigen\n",
    "- z.B. cyclen in denen ein Gewicht nahe null gemessen wurde werden herausgenommen aus den Daten\n",
    "- das verbessert das Maschine Learning"
   ]
  },
  {
   "cell_type": "code",
   "execution_count": null,
   "id": "382c735f-d2fd-4da0-8ad3-b3ccc62c6112",
   "metadata": {},
   "outputs": [],
   "source": [
    "# Remove cycles (rows), where weight is nan or 0.00 ()\n",
    "df = df[df['weight']> 0.5]\n",
    "df"
   ]
  },
  {
   "cell_type": "code",
   "execution_count": null,
   "id": "cefdad3e-bdda-4e0c-941a-e6b0cc3324bc",
   "metadata": {},
   "outputs": [],
   "source": [
    "fig, axs = plt.subplots(5, 1, layout='constrained', figsize=(15, 10))\n",
    "axs[0].scatter(df['cycle_counter'], df['umschaltvolumen'])\n",
    "axs[0].set_title('umschaltvolumen')\n",
    "\n",
    "axs[1].scatter(df['cycle_counter'], df['maximaler_spritzdruck'])\n",
    "axs[1].set_title('maximaler_spritzdruck');\n",
    "\n",
    "axs[2].scatter(df['cycle_counter'], df['umschaltspritzdruck'])\n",
    "axs[2].set_title('umschaltspritzdruck');\n",
    "\n",
    "axs[3].scatter(df['cycle_counter'], df['werkzeugheizkreis_1'])\n",
    "axs[3].set_title('werkzeugheizkreis_1');\n",
    "\n",
    "axs[4].scatter(df['cycle_counter'], df['weight'])\n",
    "axs[4].set_title('weight');"
   ]
  },
  {
   "cell_type": "markdown",
   "id": "63e8a5b7-6eab-455e-9685-9cf174d2619c",
   "metadata": {},
   "source": [
    "## Maschine Learning (Lineare Regression), um das Bauteilgewicht vorherzusagen"
   ]
  },
  {
   "cell_type": "code",
   "execution_count": null,
   "id": "71046e1c-82bb-486f-ade8-d47d229aea2f",
   "metadata": {},
   "outputs": [],
   "source": [
    "#Feature Selection ML\n",
    "X = df[['umschaltvolumen','maximaler_spritzdruck','umschaltspritzdruck','werkzeugheizkreis_1']]\n",
    "X"
   ]
  },
  {
   "cell_type": "code",
   "execution_count": null,
   "id": "9cb02a6d-fde1-429b-99ee-8b330bc976f4",
   "metadata": {},
   "outputs": [],
   "source": [
    "Y = df[['weight']]\n",
    "Y"
   ]
  },
  {
   "cell_type": "code",
   "execution_count": null,
   "id": "6515fc66-c4fe-41de-b28d-de5b7a8bcb0d",
   "metadata": {},
   "outputs": [],
   "source": [
    "# Split into train and test data\n",
    "X_train, X_test, y_train, y_test = train_test_split(X, Y, test_size=0.33, random_state=42)"
   ]
  },
  {
   "cell_type": "code",
   "execution_count": null,
   "id": "353d6f5e-e97c-4813-825b-90e85452bf35",
   "metadata": {},
   "outputs": [],
   "source": [
    "lm = LinearRegression()\n",
    "lm.fit(X_train, y_train)"
   ]
  },
  {
   "cell_type": "code",
   "execution_count": null,
   "id": "3947b98e-6547-44ef-a1db-377aa7b45b34",
   "metadata": {},
   "outputs": [],
   "source": [
    "predictions = lm.predict(X_test)\n",
    "predictions"
   ]
  },
  {
   "cell_type": "code",
   "execution_count": null,
   "id": "5be3e4ec-6114-4b5f-a1a4-2ee9dc7876cb",
   "metadata": {},
   "outputs": [],
   "source": [
    "lm.score(X_test, y_test, sample_weight=None)"
   ]
  },
  {
   "cell_type": "code",
   "execution_count": null,
   "id": "e1a1940a-cc36-488e-9f57-bd1e71b6a27f",
   "metadata": {},
   "outputs": [],
   "source": [
    "print(f'MAE: {metrics.mean_absolute_error(y_test, predictions)}')\n",
    "print(f'MSE: {metrics.mean_squared_error(y_test, predictions)}')\n",
    "print(f'RMSE: {np.sqrt(metrics.mean_squared_error(y_test, predictions))}')\n",
    "print(f'R^2: {metrics.r2_score(y_test, predictions)}')"
   ]
  },
  {
   "cell_type": "markdown",
   "id": "eca0038d-55d4-4114-ab65-f554086ea173",
   "metadata": {},
   "source": [
    " R^2 ~=1 richtig gute Vorhersage, R^2 ~0 oder negativ schlechte Vorhersage."
   ]
  },
  {
   "cell_type": "markdown",
   "id": "a7e79d57-b7c6-408e-a767-56539e4961f3",
   "metadata": {},
   "source": [
    "Wie machen wirs noch besser?"
   ]
  },
  {
   "cell_type": "code",
   "execution_count": null,
   "id": "8185df7d-2653-415b-8b67-75f5da6bcc62",
   "metadata": {},
   "outputs": [],
   "source": [
    "from sklearn.preprocessing import Normalizer, MinMaxScaler, RobustScaler"
   ]
  },
  {
   "cell_type": "code",
   "execution_count": null,
   "id": "2c5b6181-94f8-4bfa-bbd4-c62e81bd029c",
   "metadata": {},
   "outputs": [],
   "source": [
    "std_scaler = RobustScaler()# wandelt in Normalverteilung, um werte zwischen 0 bis 1\n",
    "X_std = pd.DataFrame(std_scaler.fit_transform(X), columns=X.columns)\n",
    "Y_std = pd.DataFrame(std_scaler.fit_transform(Y), columns=Y.columns)\n"
   ]
  },
  {
   "cell_type": "code",
   "execution_count": null,
   "id": "3d386b1b-ca24-476c-83fe-14d1a027630e",
   "metadata": {},
   "outputs": [],
   "source": [
    "X"
   ]
  },
  {
   "cell_type": "code",
   "execution_count": null,
   "id": "d7f05d0f-ecd0-47cd-aa44-ccaf936d08be",
   "metadata": {},
   "outputs": [],
   "source": [
    "X_std"
   ]
  },
  {
   "cell_type": "code",
   "execution_count": null,
   "id": "df01bbf2-664f-4a58-93bf-808db13e9fac",
   "metadata": {},
   "outputs": [],
   "source": [
    "Y_std"
   ]
  },
  {
   "cell_type": "code",
   "execution_count": null,
   "id": "979d973d-c350-408e-9ca0-6051c162f619",
   "metadata": {},
   "outputs": [],
   "source": [
    "df = Y_std.reset_index()\n",
    "df.plot.scatter(x = 'index', y = 'weight');"
   ]
  },
  {
   "cell_type": "code",
   "execution_count": null,
   "id": "9bb4ff1f-c97d-4280-b2bc-4b3e9e3aa1d9",
   "metadata": {},
   "outputs": [],
   "source": [
    "X_train, X_test, y_train, y_test = train_test_split(X_std, Y_std, test_size=0.33, random_state=42)"
   ]
  },
  {
   "cell_type": "code",
   "execution_count": null,
   "id": "3a8627b8-954f-4105-9378-55d42440245a",
   "metadata": {},
   "outputs": [],
   "source": [
    "lm = LinearRegression()\n",
    "lm.fit(X_train, y_train)\n",
    "predictions = lm.predict(X_test)\n",
    "lm.score(X_test, y_test, sample_weight=None)\n",
    "print(f'MAE: {metrics.mean_absolute_error(y_test, predictions)}')\n",
    "print(f'MSE: {metrics.mean_squared_error(y_test, predictions)}')\n",
    "print(f'RMSE: {np.sqrt(metrics.mean_squared_error(y_test, predictions))}')\n",
    "print(f'R^2: {metrics.r2_score(y_test, predictions)}')"
   ]
  },
  {
   "cell_type": "code",
   "execution_count": null,
   "id": "196729d6-c8b6-47c7-a5ac-f045f9cd6e7d",
   "metadata": {},
   "outputs": [],
   "source": []
  }
 ],
 "metadata": {
  "kernelspec": {
   "display_name": "codefest_env",
   "language": "python",
   "name": "codefest_env"
  },
  "language_info": {
   "codemirror_mode": {
    "name": "ipython",
    "version": 3
   },
   "file_extension": ".py",
   "mimetype": "text/x-python",
   "name": "python",
   "nbconvert_exporter": "python",
   "pygments_lexer": "ipython3",
   "version": "3.9.5"
  }
 },
 "nbformat": 4,
 "nbformat_minor": 5
}
